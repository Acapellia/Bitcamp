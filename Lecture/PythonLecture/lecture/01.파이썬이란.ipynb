{
 "cells": [
  {
   "cell_type": "markdown",
   "metadata": {},
   "source": [
    "# <파이썬의 탄생>\n",
    "## 1. 1990년 네덜란드 암스테르담 '귀도 반 로섬'\n",
    "## Monkey Python ~ 이름을 따왔다.\n",
    "## 2. 크리스마스 때 재미있는 코딩 놀이를 하려고 만듬\n",
    "## 3. C/C++/C#/Java => 공학적 특징, 자료형 엄격, 논리적, 시스템 친화적\n",
    "## 4. Python => 인간적 특징, 자료형 동적 타입, 편의성, 빠른 결과, 마이크로 서비스"
   ]
  },
  {
   "cell_type": "code",
   "execution_count": null,
   "metadata": {},
   "outputs": [],
   "source": []
  }
 ],
 "metadata": {
  "kernelspec": {
   "display_name": "Python 3",
   "language": "python",
   "name": "python3"
  },
  "language_info": {
   "codemirror_mode": {
    "name": "ipython",
    "version": 3
   },
   "file_extension": ".py",
   "mimetype": "text/x-python",
   "name": "python",
   "nbconvert_exporter": "python",
   "pygments_lexer": "ipython3",
   "version": "3.8.3"
  }
 },
 "nbformat": 4,
 "nbformat_minor": 4
}
